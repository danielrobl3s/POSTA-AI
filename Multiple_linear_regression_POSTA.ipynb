{
  "nbformat": 4,
  "nbformat_minor": 0,
  "metadata": {
    "colab": {
      "provenance": []
    },
    "kernelspec": {
      "name": "python3",
      "display_name": "Python 3"
    },
    "language_info": {
      "name": "python"
    }
  },
  "cells": [
    {
      "cell_type": "markdown",
      "source": [
        "#Facebook:"
      ],
      "metadata": {
        "id": "jfd9Agr6rmNs"
      }
    },
    {
      "cell_type": "markdown",
      "source": [
        "# Importing the libraries\n",
        "\n",
        "\n"
      ],
      "metadata": {
        "id": "ZNkbW-BpnOog"
      }
    },
    {
      "cell_type": "code",
      "execution_count": 189,
      "metadata": {
        "id": "N5Py_prSnLHc"
      },
      "outputs": [],
      "source": [
        "import numpy as np\n",
        "import matplotlib.pyplot as plt\n",
        "import pandas as pd"
      ]
    },
    {
      "cell_type": "markdown",
      "source": [
        "#Import the dataset"
      ],
      "metadata": {
        "id": "ZfiD1jWUnjIX"
      }
    },
    {
      "cell_type": "code",
      "source": [
        "dataset = pd.read_csv('fbdataset.csv')\n",
        "X = dataset.iloc[:,:-1].values\n",
        "Y = dataset.iloc[:,-1].values"
      ],
      "metadata": {
        "id": "fDhX6G-cnmiw"
      },
      "execution_count": 190,
      "outputs": []
    },
    {
      "cell_type": "code",
      "source": [
        "print(X)"
      ],
      "metadata": {
        "colab": {
          "base_uri": "https://localhost:8080/"
        },
        "id": "F5a4quNhn-_X",
        "outputId": "5e2cc164-b568-442b-8677-3fd0085debec"
      },
      "execution_count": 191,
      "outputs": [
        {
          "output_type": "stream",
          "name": "stdout",
          "text": [
            "[[2.30e+01 5.55e-04]\n",
            " [2.60e+01 1.20e-09]\n",
            " [2.20e+01 5.53e-02]\n",
            " [2.00e+01 1.93e-03]\n",
            " [3.30e+01 1.57e-03]\n",
            " [2.60e+01 6.73e-04]\n",
            " [3.10e+01 1.99e-02]\n",
            " [3.00e+01 8.90e-01]\n",
            " [2.20e+01 1.61e-03]\n",
            " [1.90e+01 5.29e-03]\n",
            " [2.40e+01 3.61e-03]\n",
            " [2.40e+01 1.35e-02]\n",
            " [2.50e+01 4.89e-04]\n",
            " [2.00e+01 1.80e-01]\n",
            " [2.40e+01 1.31e-03]]\n"
          ]
        }
      ]
    },
    {
      "cell_type": "markdown",
      "source": [
        "#Feature scaling"
      ],
      "metadata": {
        "id": "ECKy_KLH1Zsq"
      }
    },
    {
      "cell_type": "code",
      "source": [
        "from sklearn.preprocessing import MinMaxScaler\n",
        "scaler = MinMaxScaler()\n",
        "X_scaled = scaler.fit_transform(X)\n",
        "print(X_scaled)"
      ],
      "metadata": {
        "colab": {
          "base_uri": "https://localhost:8080/"
        },
        "id": "iBYAwvkk1bZx",
        "outputId": "a9a3b48c-2315-45ed-a4ec-2a9a097aabbf"
      },
      "execution_count": 192,
      "outputs": [
        {
          "output_type": "stream",
          "name": "stdout",
          "text": [
            "[[2.86e-01 6.23e-04]\n",
            " [5.00e-01 0.00e+00]\n",
            " [2.14e-01 6.21e-02]\n",
            " [7.14e-02 2.17e-03]\n",
            " [1.00e+00 1.76e-03]\n",
            " [5.00e-01 7.56e-04]\n",
            " [8.57e-01 2.23e-02]\n",
            " [7.86e-01 1.00e+00]\n",
            " [2.14e-01 1.81e-03]\n",
            " [0.00e+00 5.94e-03]\n",
            " [3.57e-01 4.05e-03]\n",
            " [3.57e-01 1.52e-02]\n",
            " [4.29e-01 5.49e-04]\n",
            " [7.14e-02 2.02e-01]\n",
            " [3.57e-01 1.47e-03]]\n"
          ]
        }
      ]
    },
    {
      "cell_type": "markdown",
      "source": [
        "#Splitting the training set and test set"
      ],
      "metadata": {
        "id": "lQMybcI2oBz2"
      }
    },
    {
      "cell_type": "code",
      "source": [
        "from sklearn.model_selection import train_test_split\n",
        "x_train, x_test, y_train, y_test = train_test_split(X_scaled, Y, test_size = 0.2, random_state = 0)"
      ],
      "metadata": {
        "id": "6OCkm2NGoFQX"
      },
      "execution_count": 193,
      "outputs": []
    },
    {
      "cell_type": "markdown",
      "source": [
        "#Training the multiple linear regression model"
      ],
      "metadata": {
        "id": "dexqruGOoJve"
      }
    },
    {
      "cell_type": "code",
      "source": [
        "from sklearn.linear_model import LinearRegression\n",
        "regressor = LinearRegression()\n",
        "regressor.fit(x_train, y_train)"
      ],
      "metadata": {
        "colab": {
          "base_uri": "https://localhost:8080/",
          "height": 74
        },
        "id": "7CCOe360oNi-",
        "outputId": "2b1c74aa-f376-4b4b-9d7e-a1c735a268a5"
      },
      "execution_count": 194,
      "outputs": [
        {
          "output_type": "execute_result",
          "data": {
            "text/plain": [
              "LinearRegression()"
            ],
            "text/html": [
              "<style>#sk-container-id-30 {color: black;background-color: white;}#sk-container-id-30 pre{padding: 0;}#sk-container-id-30 div.sk-toggleable {background-color: white;}#sk-container-id-30 label.sk-toggleable__label {cursor: pointer;display: block;width: 100%;margin-bottom: 0;padding: 0.3em;box-sizing: border-box;text-align: center;}#sk-container-id-30 label.sk-toggleable__label-arrow:before {content: \"▸\";float: left;margin-right: 0.25em;color: #696969;}#sk-container-id-30 label.sk-toggleable__label-arrow:hover:before {color: black;}#sk-container-id-30 div.sk-estimator:hover label.sk-toggleable__label-arrow:before {color: black;}#sk-container-id-30 div.sk-toggleable__content {max-height: 0;max-width: 0;overflow: hidden;text-align: left;background-color: #f0f8ff;}#sk-container-id-30 div.sk-toggleable__content pre {margin: 0.2em;color: black;border-radius: 0.25em;background-color: #f0f8ff;}#sk-container-id-30 input.sk-toggleable__control:checked~div.sk-toggleable__content {max-height: 200px;max-width: 100%;overflow: auto;}#sk-container-id-30 input.sk-toggleable__control:checked~label.sk-toggleable__label-arrow:before {content: \"▾\";}#sk-container-id-30 div.sk-estimator input.sk-toggleable__control:checked~label.sk-toggleable__label {background-color: #d4ebff;}#sk-container-id-30 div.sk-label input.sk-toggleable__control:checked~label.sk-toggleable__label {background-color: #d4ebff;}#sk-container-id-30 input.sk-hidden--visually {border: 0;clip: rect(1px 1px 1px 1px);clip: rect(1px, 1px, 1px, 1px);height: 1px;margin: -1px;overflow: hidden;padding: 0;position: absolute;width: 1px;}#sk-container-id-30 div.sk-estimator {font-family: monospace;background-color: #f0f8ff;border: 1px dotted black;border-radius: 0.25em;box-sizing: border-box;margin-bottom: 0.5em;}#sk-container-id-30 div.sk-estimator:hover {background-color: #d4ebff;}#sk-container-id-30 div.sk-parallel-item::after {content: \"\";width: 100%;border-bottom: 1px solid gray;flex-grow: 1;}#sk-container-id-30 div.sk-label:hover label.sk-toggleable__label {background-color: #d4ebff;}#sk-container-id-30 div.sk-serial::before {content: \"\";position: absolute;border-left: 1px solid gray;box-sizing: border-box;top: 0;bottom: 0;left: 50%;z-index: 0;}#sk-container-id-30 div.sk-serial {display: flex;flex-direction: column;align-items: center;background-color: white;padding-right: 0.2em;padding-left: 0.2em;position: relative;}#sk-container-id-30 div.sk-item {position: relative;z-index: 1;}#sk-container-id-30 div.sk-parallel {display: flex;align-items: stretch;justify-content: center;background-color: white;position: relative;}#sk-container-id-30 div.sk-item::before, #sk-container-id-30 div.sk-parallel-item::before {content: \"\";position: absolute;border-left: 1px solid gray;box-sizing: border-box;top: 0;bottom: 0;left: 50%;z-index: -1;}#sk-container-id-30 div.sk-parallel-item {display: flex;flex-direction: column;z-index: 1;position: relative;background-color: white;}#sk-container-id-30 div.sk-parallel-item:first-child::after {align-self: flex-end;width: 50%;}#sk-container-id-30 div.sk-parallel-item:last-child::after {align-self: flex-start;width: 50%;}#sk-container-id-30 div.sk-parallel-item:only-child::after {width: 0;}#sk-container-id-30 div.sk-dashed-wrapped {border: 1px dashed gray;margin: 0 0.4em 0.5em 0.4em;box-sizing: border-box;padding-bottom: 0.4em;background-color: white;}#sk-container-id-30 div.sk-label label {font-family: monospace;font-weight: bold;display: inline-block;line-height: 1.2em;}#sk-container-id-30 div.sk-label-container {text-align: center;}#sk-container-id-30 div.sk-container {/* jupyter's `normalize.less` sets `[hidden] { display: none; }` but bootstrap.min.css set `[hidden] { display: none !important; }` so we also need the `!important` here to be able to override the default hidden behavior on the sphinx rendered scikit-learn.org. See: https://github.com/scikit-learn/scikit-learn/issues/21755 */display: inline-block !important;position: relative;}#sk-container-id-30 div.sk-text-repr-fallback {display: none;}</style><div id=\"sk-container-id-30\" class=\"sk-top-container\"><div class=\"sk-text-repr-fallback\"><pre>LinearRegression()</pre><b>In a Jupyter environment, please rerun this cell to show the HTML representation or trust the notebook. <br />On GitHub, the HTML representation is unable to render, please try loading this page with nbviewer.org.</b></div><div class=\"sk-container\" hidden><div class=\"sk-item\"><div class=\"sk-estimator sk-toggleable\"><input class=\"sk-toggleable__control sk-hidden--visually\" id=\"sk-estimator-id-30\" type=\"checkbox\" checked><label for=\"sk-estimator-id-30\" class=\"sk-toggleable__label sk-toggleable__label-arrow\">LinearRegression</label><div class=\"sk-toggleable__content\"><pre>LinearRegression()</pre></div></div></div></div></div>"
            ]
          },
          "metadata": {},
          "execution_count": 194
        }
      ]
    },
    {
      "cell_type": "markdown",
      "source": [
        "#Predicting the test results"
      ],
      "metadata": {
        "id": "kAGJTqUfoQpu"
      }
    },
    {
      "cell_type": "code",
      "source": [
        "y_pred = regressor.predict(x_test)\n",
        "np.set_printoptions(precision=2)\n",
        "print(np.concatenate((y_pred.reshape(len(y_pred), 1), y_test.reshape(len(y_test), 1)),1))"
      ],
      "metadata": {
        "colab": {
          "base_uri": "https://localhost:8080/"
        },
        "id": "icx1Z6ZioYIO",
        "outputId": "9a113e84-3af6-4663-d184-86d746c504d0"
      },
      "execution_count": 195,
      "outputs": [
        {
          "output_type": "stream",
          "name": "stdout",
          "text": [
            "[[3.03 3.  ]\n",
            " [2.64 1.  ]\n",
            " [3.35 1.  ]]\n"
          ]
        }
      ]
    },
    {
      "cell_type": "markdown",
      "source": [
        "#Instagram:"
      ],
      "metadata": {
        "id": "B-tFr3vQro1r"
      }
    },
    {
      "cell_type": "markdown",
      "source": [
        "#Import the dataset"
      ],
      "metadata": {
        "id": "N5w1Y_s8r4z7"
      }
    },
    {
      "cell_type": "code",
      "source": [
        "igdataset = pd.read_csv('igdataset.csv')\n",
        "X_ig = igdataset.iloc[:,:-1].values\n",
        "Y_ig = igdataset.iloc[:,-1].values"
      ],
      "metadata": {
        "id": "tzHYlgG6rqOy"
      },
      "execution_count": 196,
      "outputs": []
    },
    {
      "cell_type": "code",
      "source": [
        "print(X_ig)"
      ],
      "metadata": {
        "colab": {
          "base_uri": "https://localhost:8080/"
        },
        "id": "n1_D_z-hryxT",
        "outputId": "ffb5daa7-cf58-4cc4-9571-1156572ea186"
      },
      "execution_count": 197,
      "outputs": [
        {
          "output_type": "stream",
          "name": "stdout",
          "text": [
            "[[2.80e+01 9.48e-03]\n",
            " [3.00e+01 1.84e-03]\n",
            " [5.50e+01 2.24e-03]\n",
            " [4.50e+01 4.62e-01]\n",
            " [4.70e+01 6.00e-07]\n",
            " [3.30e+01 5.87e-02]\n",
            " [3.20e+01 3.37e-01]\n",
            " [4.30e+01 2.13e-02]\n",
            " [2.40e+01 8.56e-06]\n",
            " [2.50e+01 6.66e-01]\n",
            " [6.60e+01 6.88e-04]\n",
            " [3.20e+01 7.54e-04]\n",
            " [4.60e+01 9.44e-01]\n",
            " [4.40e+01 9.65e-03]\n",
            " [3.40e+01 3.60e-01]\n",
            " [3.40e+01 1.37e-02]\n",
            " [3.10e+01 1.86e-03]\n",
            " [4.90e+01 8.64e-04]\n",
            " [2.10e+01 4.51e-01]\n",
            " [3.20e+01 1.44e-03]\n",
            " [5.00e+01 1.15e-04]\n",
            " [5.10e+01 1.83e-04]\n",
            " [4.30e+01 2.57e-04]\n",
            " [4.10e+01 4.15e-03]]\n"
          ]
        }
      ]
    },
    {
      "cell_type": "markdown",
      "source": [
        "#Feature scaling"
      ],
      "metadata": {
        "id": "efVCIies18y4"
      }
    },
    {
      "cell_type": "code",
      "source": [
        "from sklearn.preprocessing import MinMaxScaler\n",
        "scaler = MinMaxScaler()\n",
        "X_ig_scaled = scaler.fit_transform(X_ig)\n",
        "print(X_ig_scaled)"
      ],
      "metadata": {
        "colab": {
          "base_uri": "https://localhost:8080/"
        },
        "id": "o_VNa3zJ1-WI",
        "outputId": "9f0786f3-2b00-4997-9808-0a3982f38e9f"
      },
      "execution_count": 198,
      "outputs": [
        {
          "output_type": "stream",
          "name": "stdout",
          "text": [
            "[[1.56e-01 1.00e-02]\n",
            " [2.00e-01 1.95e-03]\n",
            " [7.56e-01 2.37e-03]\n",
            " [5.33e-01 4.89e-01]\n",
            " [5.78e-01 0.00e+00]\n",
            " [2.67e-01 6.22e-02]\n",
            " [2.44e-01 3.57e-01]\n",
            " [4.89e-01 2.26e-02]\n",
            " [6.67e-02 8.44e-06]\n",
            " [8.89e-02 7.05e-01]\n",
            " [1.00e+00 7.28e-04]\n",
            " [2.44e-01 7.98e-04]\n",
            " [5.56e-01 1.00e+00]\n",
            " [5.11e-01 1.02e-02]\n",
            " [2.89e-01 3.82e-01]\n",
            " [2.89e-01 1.45e-02]\n",
            " [2.22e-01 1.97e-03]\n",
            " [6.22e-01 9.14e-04]\n",
            " [0.00e+00 4.77e-01]\n",
            " [2.44e-01 1.53e-03]\n",
            " [6.44e-01 1.21e-04]\n",
            " [6.67e-01 1.94e-04]\n",
            " [4.89e-01 2.71e-04]\n",
            " [4.44e-01 4.40e-03]]\n"
          ]
        }
      ]
    },
    {
      "cell_type": "markdown",
      "source": [
        "#Splitting the dataset into training and test set"
      ],
      "metadata": {
        "id": "fMbpTFO-r7QT"
      }
    },
    {
      "cell_type": "code",
      "source": [
        "from sklearn.model_selection import train_test_split\n",
        "x_ig_train, x_ig_test, y_ig_train, y_ig_test = train_test_split(X_ig_scaled, Y_ig, test_size = 0.2, random_state = 0)"
      ],
      "metadata": {
        "id": "EcspJmcdr_5b"
      },
      "execution_count": 199,
      "outputs": []
    },
    {
      "cell_type": "markdown",
      "source": [
        "#Training the multiple linear regression model"
      ],
      "metadata": {
        "id": "L8tuADUQsHCD"
      }
    },
    {
      "cell_type": "code",
      "source": [
        "from sklearn.linear_model import LinearRegression\n",
        "regressor_ig = LinearRegression()\n",
        "regressor_ig.fit(x_ig_train, y_ig_train)"
      ],
      "metadata": {
        "colab": {
          "base_uri": "https://localhost:8080/",
          "height": 74
        },
        "id": "1zvdpgsesKm0",
        "outputId": "1c8b3ee5-1611-4546-c494-40150182bca6"
      },
      "execution_count": 200,
      "outputs": [
        {
          "output_type": "execute_result",
          "data": {
            "text/plain": [
              "LinearRegression()"
            ],
            "text/html": [
              "<style>#sk-container-id-31 {color: black;background-color: white;}#sk-container-id-31 pre{padding: 0;}#sk-container-id-31 div.sk-toggleable {background-color: white;}#sk-container-id-31 label.sk-toggleable__label {cursor: pointer;display: block;width: 100%;margin-bottom: 0;padding: 0.3em;box-sizing: border-box;text-align: center;}#sk-container-id-31 label.sk-toggleable__label-arrow:before {content: \"▸\";float: left;margin-right: 0.25em;color: #696969;}#sk-container-id-31 label.sk-toggleable__label-arrow:hover:before {color: black;}#sk-container-id-31 div.sk-estimator:hover label.sk-toggleable__label-arrow:before {color: black;}#sk-container-id-31 div.sk-toggleable__content {max-height: 0;max-width: 0;overflow: hidden;text-align: left;background-color: #f0f8ff;}#sk-container-id-31 div.sk-toggleable__content pre {margin: 0.2em;color: black;border-radius: 0.25em;background-color: #f0f8ff;}#sk-container-id-31 input.sk-toggleable__control:checked~div.sk-toggleable__content {max-height: 200px;max-width: 100%;overflow: auto;}#sk-container-id-31 input.sk-toggleable__control:checked~label.sk-toggleable__label-arrow:before {content: \"▾\";}#sk-container-id-31 div.sk-estimator input.sk-toggleable__control:checked~label.sk-toggleable__label {background-color: #d4ebff;}#sk-container-id-31 div.sk-label input.sk-toggleable__control:checked~label.sk-toggleable__label {background-color: #d4ebff;}#sk-container-id-31 input.sk-hidden--visually {border: 0;clip: rect(1px 1px 1px 1px);clip: rect(1px, 1px, 1px, 1px);height: 1px;margin: -1px;overflow: hidden;padding: 0;position: absolute;width: 1px;}#sk-container-id-31 div.sk-estimator {font-family: monospace;background-color: #f0f8ff;border: 1px dotted black;border-radius: 0.25em;box-sizing: border-box;margin-bottom: 0.5em;}#sk-container-id-31 div.sk-estimator:hover {background-color: #d4ebff;}#sk-container-id-31 div.sk-parallel-item::after {content: \"\";width: 100%;border-bottom: 1px solid gray;flex-grow: 1;}#sk-container-id-31 div.sk-label:hover label.sk-toggleable__label {background-color: #d4ebff;}#sk-container-id-31 div.sk-serial::before {content: \"\";position: absolute;border-left: 1px solid gray;box-sizing: border-box;top: 0;bottom: 0;left: 50%;z-index: 0;}#sk-container-id-31 div.sk-serial {display: flex;flex-direction: column;align-items: center;background-color: white;padding-right: 0.2em;padding-left: 0.2em;position: relative;}#sk-container-id-31 div.sk-item {position: relative;z-index: 1;}#sk-container-id-31 div.sk-parallel {display: flex;align-items: stretch;justify-content: center;background-color: white;position: relative;}#sk-container-id-31 div.sk-item::before, #sk-container-id-31 div.sk-parallel-item::before {content: \"\";position: absolute;border-left: 1px solid gray;box-sizing: border-box;top: 0;bottom: 0;left: 50%;z-index: -1;}#sk-container-id-31 div.sk-parallel-item {display: flex;flex-direction: column;z-index: 1;position: relative;background-color: white;}#sk-container-id-31 div.sk-parallel-item:first-child::after {align-self: flex-end;width: 50%;}#sk-container-id-31 div.sk-parallel-item:last-child::after {align-self: flex-start;width: 50%;}#sk-container-id-31 div.sk-parallel-item:only-child::after {width: 0;}#sk-container-id-31 div.sk-dashed-wrapped {border: 1px dashed gray;margin: 0 0.4em 0.5em 0.4em;box-sizing: border-box;padding-bottom: 0.4em;background-color: white;}#sk-container-id-31 div.sk-label label {font-family: monospace;font-weight: bold;display: inline-block;line-height: 1.2em;}#sk-container-id-31 div.sk-label-container {text-align: center;}#sk-container-id-31 div.sk-container {/* jupyter's `normalize.less` sets `[hidden] { display: none; }` but bootstrap.min.css set `[hidden] { display: none !important; }` so we also need the `!important` here to be able to override the default hidden behavior on the sphinx rendered scikit-learn.org. See: https://github.com/scikit-learn/scikit-learn/issues/21755 */display: inline-block !important;position: relative;}#sk-container-id-31 div.sk-text-repr-fallback {display: none;}</style><div id=\"sk-container-id-31\" class=\"sk-top-container\"><div class=\"sk-text-repr-fallback\"><pre>LinearRegression()</pre><b>In a Jupyter environment, please rerun this cell to show the HTML representation or trust the notebook. <br />On GitHub, the HTML representation is unable to render, please try loading this page with nbviewer.org.</b></div><div class=\"sk-container\" hidden><div class=\"sk-item\"><div class=\"sk-estimator sk-toggleable\"><input class=\"sk-toggleable__control sk-hidden--visually\" id=\"sk-estimator-id-31\" type=\"checkbox\" checked><label for=\"sk-estimator-id-31\" class=\"sk-toggleable__label sk-toggleable__label-arrow\">LinearRegression</label><div class=\"sk-toggleable__content\"><pre>LinearRegression()</pre></div></div></div></div></div>"
            ]
          },
          "metadata": {},
          "execution_count": 200
        }
      ]
    },
    {
      "cell_type": "markdown",
      "source": [
        "#Predicting the test results"
      ],
      "metadata": {
        "id": "6hpqR2CksPKr"
      }
    },
    {
      "cell_type": "code",
      "source": [
        "y_ig_pred = regressor_ig.predict(x_ig_test)\n",
        "np.set_printoptions(precision=2)\n",
        "print(np.concatenate((y_ig_pred.reshape(len(y_ig_pred), 1), y_ig_test.reshape(len(y_ig_test), 1)),1))"
      ],
      "metadata": {
        "colab": {
          "base_uri": "https://localhost:8080/"
        },
        "id": "k6H_kM9AsU-i",
        "outputId": "8a98fad3-b16c-4462-f26f-c2e5de1da2f9"
      },
      "execution_count": 201,
      "outputs": [
        {
          "output_type": "stream",
          "name": "stdout",
          "text": [
            "[[25.64 65.  ]\n",
            " [60.27 11.  ]\n",
            " [36.85  5.  ]\n",
            " [19.44 11.  ]\n",
            " [43.98  4.  ]]\n"
          ]
        }
      ]
    },
    {
      "cell_type": "markdown",
      "source": [
        "#Tiktok:"
      ],
      "metadata": {
        "id": "HX1T_TdNs-2g"
      }
    },
    {
      "cell_type": "markdown",
      "source": [
        "#Import the dataset"
      ],
      "metadata": {
        "id": "JbCKWxE_s-2g"
      }
    },
    {
      "cell_type": "code",
      "source": [
        "tkdataset = pd.read_csv('tkdataset.csv')\n",
        "X_tk = tkdataset.iloc[:,:-1].values\n",
        "Y_tk = tkdataset.iloc[:,-1].values"
      ],
      "metadata": {
        "id": "MmJJaaZ0s-2g"
      },
      "execution_count": 202,
      "outputs": []
    },
    {
      "cell_type": "code",
      "source": [
        "print(X_tk)"
      ],
      "metadata": {
        "colab": {
          "base_uri": "https://localhost:8080/"
        },
        "outputId": "43b49851-e212-4fe1-a417-2dd238560ad0",
        "id": "3kgYA4kgs-2h"
      },
      "execution_count": 203,
      "outputs": [
        {
          "output_type": "stream",
          "name": "stdout",
          "text": [
            "[[2.30e+01 5.33e-02]\n",
            " [2.20e+01 2.30e-01]\n",
            " [3.00e+01 1.28e-01]\n",
            " [3.30e+01 9.14e-02]\n",
            " [3.30e+01 9.14e-02]\n",
            " [2.70e+01 2.89e-04]\n",
            " [2.60e+01 1.01e-01]\n",
            " [2.50e+01 2.18e-01]\n",
            " [1.80e+01 3.13e-01]\n",
            " [3.10e+01 2.49e-03]\n",
            " [2.60e+01 5.45e-01]\n",
            " [3.40e+01 4.09e-01]\n",
            " [3.80e+01 9.39e-01]\n",
            " [3.90e+01 2.22e-04]\n",
            " [4.10e+01 2.36e-05]\n",
            " [2.70e+01 6.75e-01]\n",
            " [2.70e+01 6.75e-01]\n",
            " [2.40e+01 1.67e-02]\n",
            " [2.90e+01 5.22e-02]\n",
            " [2.20e+01 3.13e-01]\n",
            " [3.40e+01 1.00e+00]\n",
            " [2.00e+01 7.09e-01]\n",
            " [2.80e+01 9.99e-01]\n",
            " [5.50e+01 2.34e-03]\n",
            " [4.30e+01 2.38e-02]\n",
            " [2.60e+01 2.07e-01]\n",
            " [4.10e+01 3.77e-02]\n",
            " [2.80e+01 7.47e-01]\n",
            " [5.00e+01 4.99e-06]\n",
            " [2.60e+01 3.31e-03]\n",
            " [2.90e+01 2.64e-01]\n",
            " [2.80e+01 4.02e-02]\n",
            " [3.90e+01 7.51e-02]\n",
            " [3.50e+01 1.44e-02]\n",
            " [1.70e+01 3.13e-01]]\n"
          ]
        }
      ]
    },
    {
      "cell_type": "markdown",
      "source": [
        "#Feature scaling"
      ],
      "metadata": {
        "id": "4dx8Xq862Umh"
      }
    },
    {
      "cell_type": "code",
      "source": [
        "from sklearn.preprocessing import MinMaxScaler\n",
        "scaler = MinMaxScaler()\n",
        "X_tk_scaled = scaler.fit_transform(X_tk)\n",
        "print(X_tk_scaled)"
      ],
      "metadata": {
        "colab": {
          "base_uri": "https://localhost:8080/"
        },
        "id": "ez2tzMP32WDZ",
        "outputId": "c7c8183a-49c8-4e8d-8f94-690d7d8447c0"
      },
      "execution_count": 204,
      "outputs": [
        {
          "output_type": "stream",
          "name": "stdout",
          "text": [
            "[[1.58e-01 5.33e-02]\n",
            " [1.32e-01 2.30e-01]\n",
            " [3.42e-01 1.28e-01]\n",
            " [4.21e-01 9.14e-02]\n",
            " [4.21e-01 9.14e-02]\n",
            " [2.63e-01 2.84e-04]\n",
            " [2.37e-01 1.01e-01]\n",
            " [2.11e-01 2.18e-01]\n",
            " [2.63e-02 3.13e-01]\n",
            " [3.68e-01 2.49e-03]\n",
            " [2.37e-01 5.45e-01]\n",
            " [4.47e-01 4.09e-01]\n",
            " [5.53e-01 9.39e-01]\n",
            " [5.79e-01 2.17e-04]\n",
            " [6.32e-01 1.86e-05]\n",
            " [2.63e-01 6.75e-01]\n",
            " [2.63e-01 6.75e-01]\n",
            " [1.84e-01 1.67e-02]\n",
            " [3.16e-01 5.22e-02]\n",
            " [1.32e-01 3.13e-01]\n",
            " [4.47e-01 1.00e+00]\n",
            " [7.89e-02 7.09e-01]\n",
            " [2.89e-01 9.99e-01]\n",
            " [1.00e+00 2.33e-03]\n",
            " [6.84e-01 2.38e-02]\n",
            " [2.37e-01 2.07e-01]\n",
            " [6.32e-01 3.77e-02]\n",
            " [2.89e-01 7.47e-01]\n",
            " [8.68e-01 0.00e+00]\n",
            " [2.37e-01 3.30e-03]\n",
            " [3.16e-01 2.64e-01]\n",
            " [2.89e-01 4.02e-02]\n",
            " [5.79e-01 7.51e-02]\n",
            " [4.74e-01 1.44e-02]\n",
            " [0.00e+00 3.13e-01]]\n"
          ]
        }
      ]
    },
    {
      "cell_type": "markdown",
      "source": [
        "#Splitting the dataset into training and test set"
      ],
      "metadata": {
        "id": "CMm5_ZPIs-2h"
      }
    },
    {
      "cell_type": "code",
      "source": [
        "from sklearn.model_selection import train_test_split\n",
        "x_tk_train, x_tk_test, y_tk_train, y_tk_test = train_test_split(X_tk_scaled, Y_tk, test_size = 0.2, random_state = 0)"
      ],
      "metadata": {
        "id": "_eP3bT2-s-2h"
      },
      "execution_count": 205,
      "outputs": []
    },
    {
      "cell_type": "markdown",
      "source": [
        "#Training the multiple linear regression model"
      ],
      "metadata": {
        "id": "pC31AFlDs-2h"
      }
    },
    {
      "cell_type": "code",
      "source": [
        "from sklearn.linear_model import LinearRegression\n",
        "regressor_tk = LinearRegression()\n",
        "regressor_tk.fit(x_tk_train, y_tk_train)"
      ],
      "metadata": {
        "colab": {
          "base_uri": "https://localhost:8080/",
          "height": 74
        },
        "outputId": "617d7144-9da7-4d60-d9ef-d6aedbd968e2",
        "id": "4ZBBD58us-2h"
      },
      "execution_count": 206,
      "outputs": [
        {
          "output_type": "execute_result",
          "data": {
            "text/plain": [
              "LinearRegression()"
            ],
            "text/html": [
              "<style>#sk-container-id-32 {color: black;background-color: white;}#sk-container-id-32 pre{padding: 0;}#sk-container-id-32 div.sk-toggleable {background-color: white;}#sk-container-id-32 label.sk-toggleable__label {cursor: pointer;display: block;width: 100%;margin-bottom: 0;padding: 0.3em;box-sizing: border-box;text-align: center;}#sk-container-id-32 label.sk-toggleable__label-arrow:before {content: \"▸\";float: left;margin-right: 0.25em;color: #696969;}#sk-container-id-32 label.sk-toggleable__label-arrow:hover:before {color: black;}#sk-container-id-32 div.sk-estimator:hover label.sk-toggleable__label-arrow:before {color: black;}#sk-container-id-32 div.sk-toggleable__content {max-height: 0;max-width: 0;overflow: hidden;text-align: left;background-color: #f0f8ff;}#sk-container-id-32 div.sk-toggleable__content pre {margin: 0.2em;color: black;border-radius: 0.25em;background-color: #f0f8ff;}#sk-container-id-32 input.sk-toggleable__control:checked~div.sk-toggleable__content {max-height: 200px;max-width: 100%;overflow: auto;}#sk-container-id-32 input.sk-toggleable__control:checked~label.sk-toggleable__label-arrow:before {content: \"▾\";}#sk-container-id-32 div.sk-estimator input.sk-toggleable__control:checked~label.sk-toggleable__label {background-color: #d4ebff;}#sk-container-id-32 div.sk-label input.sk-toggleable__control:checked~label.sk-toggleable__label {background-color: #d4ebff;}#sk-container-id-32 input.sk-hidden--visually {border: 0;clip: rect(1px 1px 1px 1px);clip: rect(1px, 1px, 1px, 1px);height: 1px;margin: -1px;overflow: hidden;padding: 0;position: absolute;width: 1px;}#sk-container-id-32 div.sk-estimator {font-family: monospace;background-color: #f0f8ff;border: 1px dotted black;border-radius: 0.25em;box-sizing: border-box;margin-bottom: 0.5em;}#sk-container-id-32 div.sk-estimator:hover {background-color: #d4ebff;}#sk-container-id-32 div.sk-parallel-item::after {content: \"\";width: 100%;border-bottom: 1px solid gray;flex-grow: 1;}#sk-container-id-32 div.sk-label:hover label.sk-toggleable__label {background-color: #d4ebff;}#sk-container-id-32 div.sk-serial::before {content: \"\";position: absolute;border-left: 1px solid gray;box-sizing: border-box;top: 0;bottom: 0;left: 50%;z-index: 0;}#sk-container-id-32 div.sk-serial {display: flex;flex-direction: column;align-items: center;background-color: white;padding-right: 0.2em;padding-left: 0.2em;position: relative;}#sk-container-id-32 div.sk-item {position: relative;z-index: 1;}#sk-container-id-32 div.sk-parallel {display: flex;align-items: stretch;justify-content: center;background-color: white;position: relative;}#sk-container-id-32 div.sk-item::before, #sk-container-id-32 div.sk-parallel-item::before {content: \"\";position: absolute;border-left: 1px solid gray;box-sizing: border-box;top: 0;bottom: 0;left: 50%;z-index: -1;}#sk-container-id-32 div.sk-parallel-item {display: flex;flex-direction: column;z-index: 1;position: relative;background-color: white;}#sk-container-id-32 div.sk-parallel-item:first-child::after {align-self: flex-end;width: 50%;}#sk-container-id-32 div.sk-parallel-item:last-child::after {align-self: flex-start;width: 50%;}#sk-container-id-32 div.sk-parallel-item:only-child::after {width: 0;}#sk-container-id-32 div.sk-dashed-wrapped {border: 1px dashed gray;margin: 0 0.4em 0.5em 0.4em;box-sizing: border-box;padding-bottom: 0.4em;background-color: white;}#sk-container-id-32 div.sk-label label {font-family: monospace;font-weight: bold;display: inline-block;line-height: 1.2em;}#sk-container-id-32 div.sk-label-container {text-align: center;}#sk-container-id-32 div.sk-container {/* jupyter's `normalize.less` sets `[hidden] { display: none; }` but bootstrap.min.css set `[hidden] { display: none !important; }` so we also need the `!important` here to be able to override the default hidden behavior on the sphinx rendered scikit-learn.org. See: https://github.com/scikit-learn/scikit-learn/issues/21755 */display: inline-block !important;position: relative;}#sk-container-id-32 div.sk-text-repr-fallback {display: none;}</style><div id=\"sk-container-id-32\" class=\"sk-top-container\"><div class=\"sk-text-repr-fallback\"><pre>LinearRegression()</pre><b>In a Jupyter environment, please rerun this cell to show the HTML representation or trust the notebook. <br />On GitHub, the HTML representation is unable to render, please try loading this page with nbviewer.org.</b></div><div class=\"sk-container\" hidden><div class=\"sk-item\"><div class=\"sk-estimator sk-toggleable\"><input class=\"sk-toggleable__control sk-hidden--visually\" id=\"sk-estimator-id-32\" type=\"checkbox\" checked><label for=\"sk-estimator-id-32\" class=\"sk-toggleable__label sk-toggleable__label-arrow\">LinearRegression</label><div class=\"sk-toggleable__content\"><pre>LinearRegression()</pre></div></div></div></div></div>"
            ]
          },
          "metadata": {},
          "execution_count": 206
        }
      ]
    },
    {
      "cell_type": "markdown",
      "source": [
        "#Predicting the test results"
      ],
      "metadata": {
        "id": "1RgLrxEes-2i"
      }
    },
    {
      "cell_type": "code",
      "source": [
        "y_tk_pred = regressor_tk.predict(x_tk_test)\n",
        "np.set_printoptions(precision=2)\n",
        "print(np.concatenate((y_tk_pred.reshape(len(y_tk_pred), 1), y_tk_test.reshape(len(y_tk_test), 1)),1))"
      ],
      "metadata": {
        "colab": {
          "base_uri": "https://localhost:8080/"
        },
        "outputId": "43c698b8-8d30-45d9-c36c-707dbb030008",
        "id": "hU09f8Y0s-2i"
      },
      "execution_count": 207,
      "outputs": [
        {
          "output_type": "stream",
          "name": "stdout",
          "text": [
            "[[386.13  39.  ]\n",
            " [135.96 654.  ]\n",
            " [233.19  19.  ]\n",
            " [300.73  10.  ]\n",
            " [157.74 654.  ]\n",
            " [233.19  37.  ]\n",
            " [265.79  33.  ]]\n"
          ]
        }
      ]
    }
  ]
}